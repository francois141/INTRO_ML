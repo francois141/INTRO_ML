{
 "cells": [
  {
   "cell_type": "markdown",
   "metadata": {
    "id": "biIcBZC_l4C2"
   },
   "source": [
    "# Import libraries\n",
    "\n"
   ]
  },
  {
   "cell_type": "code",
   "execution_count": null,
   "metadata": {
    "id": "2FmXqqI9qWBr"
   },
   "outputs": [],
   "source": [
    "# Classic stuff\n",
    "import numpy as np\n",
    "import pandas as pd\n",
    "\n",
    "# Specific from sklearn\n",
    "from sklearn.linear_model import Ridge\n",
    "from sklearn.model_selection import cross_val_score\n",
    "from sklearn.metrics import mean_squared_error\n",
    "from sklearn import metrics\n",
    "from sklearn.model_selection import KFold"
   ]
  },
  {
   "cell_type": "markdown",
   "metadata": {
    "id": "4gSfViJj-8RG"
   },
   "source": [
    "# Load data"
   ]
  },
  {
   "cell_type": "code",
   "execution_count": null,
   "metadata": {
    "id": "Q5PvZAXa-7k9"
   },
   "outputs": [],
   "source": [
    "# Import the data\n",
    "array = np.array(pd.read_csv('train.csv')) \n",
    "\n",
    "# Separate X and y from the data\n",
    "X_train = array[:,1:]\n",
    "y_train = array[:,0] \n",
    "\n",
    "# Encode the parameters in an array\n",
    "parameters = np.array([0.1,1,10,100,200])"
   ]
  },
  {
   "cell_type": "markdown",
   "metadata": {
    "id": "-258F3kdmJMa"
   },
   "source": [
    "# Train the model & print errors\n"
   ]
  },
  {
   "cell_type": "code",
   "execution_count": null,
   "metadata": {
    "colab": {
     "base_uri": "https://localhost:8080/"
    },
    "id": "dumnDGTvlnUe",
    "outputId": "543699b0-7f41-43dd-d272-067024ea44ea"
   },
   "outputs": [],
   "source": [
    "# Create an array to store the error\n",
    "errors = np.array([])\n",
    "\n",
    "# Creation of a kfold object\n",
    "kf = KFold(n_splits=10,shuffle=True)\n",
    "\n",
    "# Create a ridge regression with each parameters\n",
    "for parameter in parameters:\n",
    "    ridge = Ridge(alpha=parameter)\n",
    "    scores = -cross_val_score(ridge, X_train, y_train, cv=kf,scoring='neg_mean_squared_error')\n",
    "    scores = np.sqrt(scores)\n",
    "    errors = np.append(errors,scores.mean())"
   ]
  },
  {
   "cell_type": "markdown",
   "metadata": {
    "id": "LblDw2MY9MBi"
   },
   "source": [
    "# Output the results"
   ]
  },
  {
   "cell_type": "code",
   "execution_count": null,
   "metadata": {
    "id": "XIIdZjudnZas"
   },
   "outputs": [],
   "source": [
    "# Export the data into a dataframe\n",
    "dataframe = pd.DataFrame({\"Errors\":errors})\n",
    "dataframe.to_csv(\"output.csv\",index = False,header= False)"
   ]
  }
 ],
 "metadata": {
  "celltoolbar": "Format de la Cellule Texte Brut",
  "colab": {
   "collapsed_sections": [],
   "name": "Task1.ipynb",
   "provenance": [],
   "toc_visible": true
  },
  "kernelspec": {
   "display_name": "Python 3",
   "language": "python",
   "name": "python3"
  },
  "language_info": {
   "codemirror_mode": {
    "name": "ipython",
    "version": 3
   },
   "file_extension": ".py",
   "mimetype": "text/x-python",
   "name": "python",
   "nbconvert_exporter": "python",
   "pygments_lexer": "ipython3",
   "version": "3.8.8"
  }
 },
 "nbformat": 4,
 "nbformat_minor": 1
}
