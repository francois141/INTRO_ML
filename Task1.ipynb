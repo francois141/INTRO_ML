{
  "nbformat": 4,
  "nbformat_minor": 0,
  "metadata": {
    "colab": {
      "name": "Task1.ipynb",
      "provenance": [],
      "collapsed_sections": [],
      "toc_visible": true
    },
    "kernelspec": {
      "name": "python3",
      "display_name": "Python 3"
    }
  },
  "cells": [
    {
      "cell_type": "markdown",
      "metadata": {
        "id": "biIcBZC_l4C2"
      },
      "source": [
        "# Import libraries\n",
        "\n"
      ]
    },
    {
      "cell_type": "code",
      "metadata": {
        "id": "2FmXqqI9qWBr"
      },
      "source": [
        "import numpy as np\n",
        "import pandas as pd\n",
        "\n",
        "from sklearn.linear_model import Ridge\n",
        "from sklearn.model_selection import cross_val_score\n",
        "from sklearn.metrics import mean_squared_error\n",
        "from sklearn import metrics\n",
        "from sklearn.model_selection import KFold"
      ],
      "execution_count": null,
      "outputs": []
    },
    {
      "cell_type": "markdown",
      "metadata": {
        "id": "4gSfViJj-8RG"
      },
      "source": [
        "# Load data"
      ]
    },
    {
      "cell_type": "code",
      "metadata": {
        "id": "Q5PvZAXa-7k9"
      },
      "source": [
        "array = np.array(pd.read_csv('train.csv')) # import dataset\n",
        "\n",
        "X_train = array[:,1:]\n",
        "y_train = array[:,0] \n",
        "\n",
        "parameters = np.array([0.1,1,10,100,200])"
      ],
      "execution_count": null,
      "outputs": []
    },
    {
      "cell_type": "markdown",
      "metadata": {
        "id": "-258F3kdmJMa"
      },
      "source": [
        "# Train the model & print errors\n"
      ]
    },
    {
      "cell_type": "code",
      "metadata": {
        "id": "dumnDGTvlnUe",
        "colab": {
          "base_uri": "https://localhost:8080/"
        },
        "outputId": "543699b0-7f41-43dd-d272-067024ea44ea"
      },
      "source": [
        "errors = np.array([])\n",
        "\n",
        "kf = KFold(n_splits=10,shuffle=True)\n",
        "\n",
        "for parameter in parameters:\n",
        "    ridge = Ridge(alpha=parameter)\n",
        "    scores = -cross_val_score(ridge, X_train, y_train, cv=kf,scoring='neg_mean_squared_error')\n",
        "    scores = np.sqrt(scores)\n",
        "    errors = np.append(errors,scores.mean())\n",
        "\n",
        "print(errors)"
      ],
      "execution_count": null,
      "outputs": [
        {
          "output_type": "stream",
          "text": [
            "[5.28399059 5.32489136 5.4146141  5.67057691 5.58865587]\n"
          ],
          "name": "stdout"
        }
      ]
    },
    {
      "cell_type": "markdown",
      "metadata": {
        "id": "jwmRvr-79M60"
      },
      "source": [
        ""
      ]
    },
    {
      "cell_type": "markdown",
      "metadata": {
        "id": "LblDw2MY9MBi"
      },
      "source": [
        "# Export\n"
      ]
    },
    {
      "cell_type": "code",
      "metadata": {
        "id": "XIIdZjudnZas"
      },
      "source": [
        "dataframe = pd.DataFrame({\"Errors\":errors})\n",
        "dataframe.to_csv(\"output.csv\",index = False,header= False)"
      ],
      "execution_count": null,
      "outputs": []
    }
  ]
}