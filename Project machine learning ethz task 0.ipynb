{
 "cells": [
  {
   "cell_type": "markdown",
   "metadata": {},
   "source": [
    "# Import libraries"
   ]
  },
  {
   "cell_type": "code",
   "execution_count": 49,
   "metadata": {},
   "outputs": [],
   "source": [
    "# Classic stuff\n",
    "import pandas as pd\n",
    "import numpy as np\n",
    "import matplotlib.pyplot as plt\n",
    "\n",
    "# For the computation of the mean squared error\n",
    "from sklearn.metrics import mean_squared_error"
   ]
  },
  {
   "cell_type": "markdown",
   "metadata": {},
   "source": [
    "# Create predictions & Output them"
   ]
  },
  {
   "cell_type": "code",
   "execution_count": 50,
   "metadata": {},
   "outputs": [],
   "source": [
    "# 1) Import the data\n",
    "array = np.array(pd.read_csv('train.csv'))\n",
    "\n",
    "# 2) Extract useful information \n",
    "y_train = array[:,1]\n",
    "X_train = array[:,2:12]\n",
    "index = array[:,0]\n",
    "\n",
    "# 3) Make the prediction\n",
    "y_predicted = np.mean(X_train,axis = 1)\n",
    "\n",
    "# 4) Compute the error\n",
    "RMSE = mean_squared_error(y_train, y_predicted)**0.5\n",
    "\n",
    "# 5) Output the results\n",
    "dataframe = pd.DataFrame({\"Id\":index,\"y\":y_predicted})\n",
    "dataframe.to_csv(\"output.csv\",index = False)"
   ]
  },
  {
   "cell_type": "code",
   "execution_count": null,
   "metadata": {},
   "outputs": [],
   "source": []
  }
 ],
 "metadata": {
  "kernelspec": {
   "display_name": "Python 3",
   "language": "python",
   "name": "python3"
  },
  "language_info": {
   "codemirror_mode": {
    "name": "ipython",
    "version": 3
   },
   "file_extension": ".py",
   "mimetype": "text/x-python",
   "name": "python",
   "nbconvert_exporter": "python",
   "pygments_lexer": "ipython3",
   "version": "3.7.6"
  }
 },
 "nbformat": 4,
 "nbformat_minor": 4
}
