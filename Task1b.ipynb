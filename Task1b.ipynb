{
 "cells": [
  {
   "cell_type": "markdown",
   "metadata": {
    "id": "ILsndMp130m0"
   },
   "source": [
    "# Import libraries\n"
   ]
  },
  {
   "cell_type": "code",
   "execution_count": null,
   "metadata": {
    "id": "JOYk7iIr3rMh"
   },
   "outputs": [],
   "source": [
    "# Classic stuff\n",
    "import numpy as np\n",
    "import pandas as pd\n",
    "\n",
    "# Specific from sklearn\n",
    "from sklearn.linear_model import LinearRegression\n",
    "from sklearn.linear_model import Ridge\n",
    "from sklearn.metrics import mean_squared_error\n",
    "from sklearn.model_selection import cross_val_score\n",
    "from sklearn.model_selection import KFold\n",
    "from sklearn.model_selection import cross_validate"
   ]
  },
  {
   "cell_type": "markdown",
   "metadata": {
    "id": "S6WCsvLw5kPQ"
   },
   "source": [
    "# Load the data"
   ]
  },
  {
   "cell_type": "code",
   "execution_count": null,
   "metadata": {
    "id": "SgzmAkTr5mLb"
   },
   "outputs": [],
   "source": [
    "# Import the data\n",
    "data = np.array(pd.read_csv('train.csv'))\n",
    "\n",
    "# Separate X and y from the data\n",
    "X_train = data[:,2:]\n",
    "y_train = data[:,1]"
   ]
  },
  {
   "cell_type": "markdown",
   "metadata": {
    "id": "4vCxdKBn505Q"
   },
   "source": [
    "# Create the custom transformer and the model\n"
   ]
  },
  {
   "cell_type": "code",
   "execution_count": null,
   "metadata": {
    "colab": {
     "base_uri": "https://localhost:8080/"
    },
    "id": "X4mPtpWd50kB",
    "outputId": "37b8c180-adcb-49d4-97d2-afa0b59f9daa"
   },
   "outputs": [],
   "source": [
    "# This function will transform the data\n",
    "def transform_data(X):\n",
    "    return np.hstack((X,X**2,np.exp(X),np.cos(X),np.ones(X.shape)[:,0:1]))\n",
    "\n",
    "# We create the nonlinear features\n",
    "X_train = transform_data(X_train)\n",
    "\n",
    "# Apply the regression on the nonlinear features\n",
    "regression = LinearRegression(fit_intercept=False)\n",
    "regression.fit(X_train,y_train)"
   ]
  },
  {
   "cell_type": "markdown",
   "metadata": {
    "id": "evli1ZNy59j8"
   },
   "source": [
    "# Output the results"
   ]
  },
  {
   "cell_type": "code",
   "execution_count": null,
   "metadata": {
    "id": "IwMYK9ze98Yk"
   },
   "outputs": [],
   "source": [
    "# Export the data into a dataframe\n",
    "dataframe = pd.DataFrame({\"Errors\":output})\n",
    "dataframe.to_csv(\"output.csv\",index = False,header= False)"
   ]
  }
 ],
 "metadata": {
  "colab": {
   "collapsed_sections": [],
   "name": "Task1b.ipynb",
   "provenance": []
  },
  "kernelspec": {
   "display_name": "Python 3",
   "language": "python",
   "name": "python3"
  },
  "language_info": {
   "codemirror_mode": {
    "name": "ipython",
    "version": 3
   },
   "file_extension": ".py",
   "mimetype": "text/x-python",
   "name": "python",
   "nbconvert_exporter": "python",
   "pygments_lexer": "ipython3",
   "version": "3.8.8"
  }
 },
 "nbformat": 4,
 "nbformat_minor": 1
}
