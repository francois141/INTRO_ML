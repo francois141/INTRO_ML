{
  "nbformat": 4,
  "nbformat_minor": 0,
  "metadata": {
    "colab": {
      "name": "Task1b.ipynb",
      "provenance": [],
      "collapsed_sections": []
    },
    "kernelspec": {
      "display_name": "Python 3",
      "name": "python3"
    },
    "language_info": {
      "name": "python"
    }
  },
  "cells": [
    {
      "cell_type": "markdown",
      "metadata": {
        "id": "ILsndMp130m0"
      },
      "source": [
        "## Import libraries\n"
      ]
    },
    {
      "cell_type": "code",
      "metadata": {
        "id": "JOYk7iIr3rMh"
      },
      "source": [
        "import numpy as np\n",
        "import pandas as pd\n",
        "\n",
        "from sklearn.linear_model import LinearRegression\n",
        "from sklearn.linear_model import Ridge\n",
        "from sklearn.metrics import mean_squared_error\n",
        "from sklearn.model_selection import cross_val_score\n",
        "from sklearn.model_selection import KFold\n",
        "from sklearn.model_selection import cross_validate"
      ],
      "execution_count": 1,
      "outputs": []
    },
    {
      "cell_type": "markdown",
      "metadata": {
        "id": "S6WCsvLw5kPQ"
      },
      "source": [
        "## Load the data"
      ]
    },
    {
      "cell_type": "code",
      "metadata": {
        "id": "SgzmAkTr5mLb"
      },
      "source": [
        "data = np.array(pd.read_csv('train.csv'))\n",
        "\n",
        "X_train = data[:,2:]\n",
        "y_train = data[:,1]"
      ],
      "execution_count": 2,
      "outputs": []
    },
    {
      "cell_type": "markdown",
      "metadata": {
        "id": "4vCxdKBn505Q"
      },
      "source": [
        "## Create the custom transformer and the model\n"
      ]
    },
    {
      "cell_type": "code",
      "metadata": {
        "id": "X4mPtpWd50kB",
        "colab": {
          "base_uri": "https://localhost:8080/"
        },
        "outputId": "37b8c180-adcb-49d4-97d2-afa0b59f9daa"
      },
      "source": [
        "def transform_data(X):\n",
        "  return np.hstack((X,X**2,np.exp(X),np.cos(X),np.ones(X.shape)[:,0:1]))\n",
        "\n",
        "X_train = transform_data(X_train)\n",
        "\n",
        "regression = LinearRegression(fit_intercept=False)\n",
        "regression.fit(X_train,y_train)\n",
        "\n",
        "output = regression.coef_\n",
        "\n",
        "print(output)"
      ],
      "execution_count": 3,
      "outputs": [
        {
          "output_type": "stream",
          "text": [
            "[   87.19891672   -67.27010868    28.53822967   158.07550393\n",
            "  -819.69642952   200.04958806  -393.54175644  1953.26216\n",
            "  -523.63288817  1518.93422161   -86.60565699    65.34027498\n",
            "   -30.99213082  -155.77167729   822.10809663   327.10998799\n",
            "  -737.64020341  3890.67031194 -1211.22831197  3799.82175134\n",
            " -6689.18957929]\n"
          ],
          "name": "stdout"
        }
      ]
    },
    {
      "cell_type": "markdown",
      "metadata": {
        "id": "evli1ZNy59j8"
      },
      "source": [
        "## Output the results"
      ]
    },
    {
      "cell_type": "code",
      "metadata": {
        "id": "IwMYK9ze98Yk"
      },
      "source": [
        "dataframe = pd.DataFrame({\"Errors\":output})\n",
        "dataframe.to_csv(\"output.csv\",index = False,header= False)"
      ],
      "execution_count": 5,
      "outputs": []
    }
  ]
}