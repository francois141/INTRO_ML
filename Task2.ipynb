{
 "cells": [
  {
   "cell_type": "markdown",
   "metadata": {},
   "source": [
    "# Import libraries"
   ]
  },
  {
   "cell_type": "code",
   "execution_count": null,
   "metadata": {
    "id": "SLm3wgjG9UVf"
   },
   "outputs": [],
   "source": [
    "# Classic stuff\n",
    "import numpy as np \n",
    "import matplotlib.pyplot as plk\n",
    "import pandas as pd\n",
    "\n",
    "# Import sklearn packages\n",
    "from sklearn.svm import *\n",
    "from sklearn.model_selection import *\n",
    "from sklearn.pipeline import *\n",
    "from sklearn.impute import *\n",
    "from sklearn.preprocessing import *\n",
    "import sklearn.metrics as metrics"
   ]
  },
  {
   "cell_type": "markdown",
   "metadata": {},
   "source": [
    "# Load the dataset"
   ]
  },
  {
   "cell_type": "code",
   "execution_count": null,
   "metadata": {
    "id": "mNrgZVQO9UVl"
   },
   "outputs": [],
   "source": [
    "# Load the dataset\n",
    "train_features = pd.read_csv('train_features.csv')\n",
    "train_labels = pd.read_csv('train_labels.csv')\n",
    "test_features = pd.read_csv('test_features.csv')"
   ]
  },
  {
   "cell_type": "code",
   "execution_count": null,
   "metadata": {
    "id": "OYByUrNO9UVm"
   },
   "outputs": [],
   "source": [
    "# Encode the name of the labels\n",
    "labels = ['LABEL_BaseExcess', 'LABEL_Fibrinogen', 'LABEL_AST',\n",
    "         'LABEL_Alkalinephos', 'LABEL_Bilirubin_total', \n",
    "         'LABEL_Lactate', 'LABEL_TroponinI', 'LABEL_SaO2',\n",
    "         'LABEL_Bilirubin_direct', 'LABEL_EtCO2']\n",
    "\n",
    "labels_2 = ['LABEL_Sepsis']\n",
    "\n",
    "labels_3 = ['LABEL_RRate','LABEL_ABPm', 'LABEL_SpO2', 'LABEL_Heartrate']"
   ]
  },
  {
   "cell_type": "markdown",
   "metadata": {},
   "source": [
    "# Preparation of the dataset"
   ]
  },
  {
   "cell_type": "code",
   "execution_count": null,
   "metadata": {
    "id": "2RTHhuWo9UVm",
    "scrolled": true
   },
   "outputs": [],
   "source": [
    "# This function can handle the time series and will return some features of it\n",
    "def process_patient(patient_data):\n",
    "    avgarray = np.nanmean(patient_data,axis=0)\n",
    "    minarray = np.nanmin(patient_data,axis=0)\n",
    "    maxarray = np.nanmax(patient_data,axis=0)\n",
    "    vararray = np.nanvar(patient_data,axis=0)\n",
    "    medarray = np.nanmedian(patient_data,axis=0)\n",
    "    numarray = (~np.isnan(patient_data)).sum(axis=0)\n",
    "    output = np.ravel(np.array([avgarray,minarray,maxarray,vararray,medarray,numarray]))\n",
    "    return output\n",
    "\n",
    "# This function will transform the time series into a normal dataset \n",
    "def compute_features_for_patient(X_train):\n",
    "    output = []\n",
    "    nbPatient = int(X_train.shape[0] / 12)\n",
    "    for i in range(nbPatient):\n",
    "        patient_data = X_train[12*i:12*(i+1),:]\n",
    "        output.append(process_patient(patient_data))\n",
    "    return np.array(output)"
   ]
  },
  {
   "cell_type": "code",
   "execution_count": null,
   "metadata": {
    "colab": {
     "base_uri": "https://localhost:8080/"
    },
    "id": "p4wasj7o9UVn",
    "outputId": "2209ff7e-131a-47e2-9d58-c37f4f54039d",
    "scrolled": false
   },
   "outputs": [],
   "source": [
    "# Preprocessing of the dataset\n",
    "X_train = compute_features_for_patient(np.asarray(train_features)[:,3:])\n",
    "X_train = np.insert(X_train,0, np.asarray(train_features.groupby(['pid'],as_index=False,sort=False).mean())[:,2],axis=1)\n",
    "X_test  = compute_features_for_patient(np.asarray(test_features)[:,3:])\n",
    "X_test  = np.insert(X_test,0, np.asarray(test_features.groupby(['pid'],as_index=False,sort=False).mean())[:,2],axis=1)"
   ]
  },
  {
   "cell_type": "markdown",
   "metadata": {
    "id": "P3qM04gFM96m"
   },
   "source": [
    "# Subtasks 1-3"
   ]
  },
  {
   "cell_type": "code",
   "execution_count": null,
   "metadata": {
    "colab": {
     "base_uri": "https://localhost:8080/"
    },
    "id": "BFHzQHcB9UVn",
    "outputId": "ce1b6d21-6a8f-4fe2-9cc9-29b7d3514bdd",
    "scrolled": false
   },
   "outputs": [],
   "source": [
    "from sklearn.multiclass import OneVsRestClassifier\n",
    "from sklearn.experimental import enable_hist_gradient_boosting\n",
    "from sklearn.ensemble import HistGradientBoostingClassifier\n",
    "from sklearn.ensemble import HistGradientBoostingRegressor\n",
    "\n",
    "output = []\n",
    "\n",
    "#Subtask 1\n",
    "for i in labels:\n",
    "    pipeline = make_pipeline(SimpleImputer(strategy = \"mean\"),StandardScaler(),HistGradientBoostingClassifier())\n",
    "    pipeline.fit(X_train,np.asarray(train_labels[i]))\n",
    "    output.append(pipeline.predict_proba(X_test)[:,1]) \n",
    "\n",
    "#Subtask 2\n",
    "pipeline_2 = make_pipeline(SimpleImputer(strategy = \"mean\"),StandardScaler(),HistGradientBoostingClassifier())\n",
    "pipeline_2.fit(X_train, np.asarray(train_labels[labels_2]))\n",
    "output.append(pipeline_2.predict_proba(X_test)[:,1])  \n",
    "\n",
    "#Subtask 3\n",
    "for i in labels_3:\n",
    "    pipeline_3 = make_pipeline(SimpleImputer(strategy = \"mean\"),StandardScaler(),HistGradientBoostingRegressor())\n",
    "    pipeline_3.fit(X_train,np.asarray(train_labels[i]))\n",
    "    output.append(pipeline_3.predict(X_test))\n",
    "\n",
    "output = np.array(output)"
   ]
  },
  {
   "cell_type": "markdown",
   "metadata": {
    "id": "BcIjFUxuNDEj"
   },
   "source": [
    "# Output the results"
   ]
  },
  {
   "cell_type": "code",
   "execution_count": null,
   "metadata": {
    "colab": {
     "base_uri": "https://localhost:8080/",
     "height": 531
    },
    "id": "PQ_Z462H9UVo",
    "outputId": "6196b1ea-79a7-4648-a286-03d230af8f33",
    "scrolled": true
   },
   "outputs": [],
   "source": [
    "# Create the dataframe\n",
    "data = pd.DataFrame(np.transpose(output), columns=labels+labels_2+labels_3)\n",
    "pid = (compute_features_for_patient(np.asarray(test_features)))[:,0]\n",
    "\n",
    "# Add the PID of the patient in the output\n",
    "data.insert(0, 'pid', pid)"
   ]
  },
  {
   "cell_type": "code",
   "execution_count": null,
   "metadata": {
    "id": "iOi5qOw8NNS8"
   },
   "outputs": [],
   "source": [
    "# Output csv\n",
    "data.to_csv('output.csv', index=False, header=True, float_format='%.3f')"
   ]
  }
 ],
 "metadata": {
  "colab": {
   "collapsed_sections": [],
   "name": "Final_Edits.ipynb",
   "provenance": []
  },
  "kernelspec": {
   "display_name": "Python 3",
   "language": "python",
   "name": "python3"
  },
  "language_info": {
   "codemirror_mode": {
    "name": "ipython",
    "version": 3
   },
   "file_extension": ".py",
   "mimetype": "text/x-python",
   "name": "python",
   "nbconvert_exporter": "python",
   "pygments_lexer": "ipython3",
   "version": "3.8.8"
  }
 },
 "nbformat": 4,
 "nbformat_minor": 1
}
