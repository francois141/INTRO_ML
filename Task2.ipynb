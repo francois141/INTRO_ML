{
  "nbformat": 4,
  "nbformat_minor": 0,
  "metadata": {
    "colab": {
      "name": "Final_Edits.ipynb",
      "provenance": [],
      "collapsed_sections": []
    },
    "kernelspec": {
      "display_name": "Python 3",
      "language": "python",
      "name": "python3"
    },
    "language_info": {
      "codemirror_mode": {
        "name": "ipython",
        "version": 3
      },
      "file_extension": ".py",
      "mimetype": "text/x-python",
      "name": "python",
      "nbconvert_exporter": "python",
      "pygments_lexer": "ipython3",
      "version": "3.8.5"
    }
  },
  "cells": [
    {
      "cell_type": "code",
      "metadata": {
        "id": "SLm3wgjG9UVf"
      },
      "source": [
        "import numpy as np \n",
        "import matplotlib.pyplot as plk\n",
        "import pandas as pd"
      ],
      "execution_count": null,
      "outputs": []
    },
    {
      "cell_type": "code",
      "metadata": {
        "id": "ZqyjJ57P9UVk"
      },
      "source": [
        "from sklearn.svm import *\n",
        "from sklearn.model_selection import *\n",
        "from sklearn.pipeline import *\n",
        "from sklearn.impute import *\n",
        "from sklearn.preprocessing import *\n",
        "import sklearn.metrics as metrics"
      ],
      "execution_count": null,
      "outputs": []
    },
    {
      "cell_type": "code",
      "metadata": {
        "id": "mNrgZVQO9UVl"
      },
      "source": [
        "train_features = pd.read_csv('train_features.csv')\n",
        "train_labels = pd.read_csv('train_labels.csv')\n",
        "test_features = pd.read_csv('test_features.csv')"
      ],
      "execution_count": null,
      "outputs": []
    },
    {
      "cell_type": "code",
      "metadata": {
        "id": "OYByUrNO9UVm"
      },
      "source": [
        "labels = ['LABEL_BaseExcess', 'LABEL_Fibrinogen', 'LABEL_AST',\n",
        "         'LABEL_Alkalinephos', 'LABEL_Bilirubin_total', \n",
        "         'LABEL_Lactate', 'LABEL_TroponinI', 'LABEL_SaO2',\n",
        "         'LABEL_Bilirubin_direct', 'LABEL_EtCO2']\n",
        "\n",
        "labels_2 = ['LABEL_Sepsis']\n",
        "\n",
        "labels_3 = ['LABEL_RRate','LABEL_ABPm', 'LABEL_SpO2', 'LABEL_Heartrate']"
      ],
      "execution_count": null,
      "outputs": []
    },
    {
      "cell_type": "code",
      "metadata": {
        "id": "2RTHhuWo9UVm",
        "scrolled": true
      },
      "source": [
        "def process_patient(patient_data):\n",
        "    avgarray = np.nanmean(patient_data,axis=0)\n",
        "    minarray = np.nanmin(patient_data,axis=0)\n",
        "    maxarray = np.nanmax(patient_data,axis=0)\n",
        "    vararray = np.nanvar(patient_data,axis=0)\n",
        "    medarray = np.nanmedian(patient_data,axis=0)\n",
        "    numarray = (~np.isnan(patient_data)).sum(axis=0)\n",
        "    output = np.ravel(np.array([avgarray,minarray,maxarray,vararray,medarray,numarray]))\n",
        "    return output\n",
        "\n",
        "def compute_features_for_patient(X_train):\n",
        "    output = []\n",
        "    nbPatient = int(X_train.shape[0] / 12)\n",
        "    for i in range(nbPatient):\n",
        "        patient_data = X_train[12*i:12*(i+1),:]\n",
        "        output.append(process_patient(patient_data))\n",
        "    return np.array(output)"
      ],
      "execution_count": null,
      "outputs": []
    },
    {
      "cell_type": "code",
      "metadata": {
        "colab": {
          "base_uri": "https://localhost:8080/"
        },
        "id": "p4wasj7o9UVn",
        "scrolled": false,
        "outputId": "2209ff7e-131a-47e2-9d58-c37f4f54039d"
      },
      "source": [
        "X_train = compute_features_for_patient(np.asarray(train_features)[:,3:])\n",
        "X_train = np.insert(X_train,0, np.asarray(train_features.groupby(['pid'],as_index=False,sort=False).mean())[:,2],axis=1)\n",
        "X_test  = compute_features_for_patient(np.asarray(test_features)[:,3:])\n",
        "X_test  = np.insert(X_test,0, np.asarray(test_features.groupby(['pid'],as_index=False,sort=False).mean())[:,2],axis=1)"
      ],
      "execution_count": null,
      "outputs": [
        {
          "output_type": "stream",
          "text": [
            "/usr/local/lib/python3.7/dist-packages/ipykernel_launcher.py:2: RuntimeWarning: Mean of empty slice\n",
            "  \n",
            "/usr/local/lib/python3.7/dist-packages/ipykernel_launcher.py:3: RuntimeWarning: All-NaN slice encountered\n",
            "  This is separate from the ipykernel package so we can avoid doing imports until\n",
            "/usr/local/lib/python3.7/dist-packages/ipykernel_launcher.py:4: RuntimeWarning: All-NaN slice encountered\n",
            "  after removing the cwd from sys.path.\n",
            "/usr/local/lib/python3.7/dist-packages/ipykernel_launcher.py:5: RuntimeWarning: Degrees of freedom <= 0 for slice.\n",
            "  \"\"\"\n",
            "/usr/local/lib/python3.7/dist-packages/numpy/lib/nanfunctions.py:1114: RuntimeWarning: All-NaN slice encountered\n",
            "  overwrite_input=overwrite_input)\n"
          ],
          "name": "stderr"
        }
      ]
    },
    {
      "cell_type": "markdown",
      "metadata": {
        "id": "P3qM04gFM96m"
      },
      "source": [
        "## Subtasks 1-3"
      ]
    },
    {
      "cell_type": "code",
      "metadata": {
        "id": "BFHzQHcB9UVn",
        "scrolled": false,
        "colab": {
          "base_uri": "https://localhost:8080/"
        },
        "outputId": "ce1b6d21-6a8f-4fe2-9cc9-29b7d3514bdd"
      },
      "source": [
        "from sklearn.multiclass import OneVsRestClassifier\n",
        "from sklearn.experimental import enable_hist_gradient_boosting\n",
        "from sklearn.ensemble import HistGradientBoostingClassifier\n",
        "from sklearn.ensemble import HistGradientBoostingRegressor\n",
        "\n",
        "output = []\n",
        "\n",
        "#Subtask 1\n",
        "for i in labels:\n",
        "    pipeline = make_pipeline(SimpleImputer(strategy = \"mean\"),StandardScaler(),HistGradientBoostingClassifier())\n",
        "    pipeline.fit(X_train,np.asarray(train_labels[i]))\n",
        "    output.append(pipeline.predict_proba(X_test)[:,1]) \n",
        "\n",
        "#Subtask 2\n",
        "pipeline_2 = make_pipeline(SimpleImputer(strategy = \"mean\"),StandardScaler(),HistGradientBoostingClassifier())\n",
        "pipeline_2.fit(X_train, np.asarray(train_labels[labels_2]))\n",
        "output.append(pipeline_2.predict_proba(X_test)[:,1])  \n",
        "\n",
        "#Subtask 3\n",
        "for i in labels_3:\n",
        "    pipeline_3 = make_pipeline(SimpleImputer(strategy = \"mean\"),StandardScaler(),HistGradientBoostingRegressor())\n",
        "    pipeline_3.fit(X_train,np.asarray(train_labels[i]))\n",
        "    output.append(pipeline_3.predict(X_test))\n",
        "\n",
        "output = np.array(output)"
      ],
      "execution_count": null,
      "outputs": [
        {
          "output_type": "stream",
          "text": [
            "/usr/local/lib/python3.7/dist-packages/sklearn/utils/validation.py:760: DataConversionWarning: A column-vector y was passed when a 1d array was expected. Please change the shape of y to (n_samples, ), for example using ravel().\n",
            "  y = column_or_1d(y, warn=True)\n"
          ],
          "name": "stderr"
        }
      ]
    },
    {
      "cell_type": "markdown",
      "metadata": {
        "id": "BcIjFUxuNDEj"
      },
      "source": [
        "## Processing output"
      ]
    },
    {
      "cell_type": "code",
      "metadata": {
        "colab": {
          "base_uri": "https://localhost:8080/",
          "height": 531
        },
        "id": "PQ_Z462H9UVo",
        "scrolled": true,
        "outputId": "6196b1ea-79a7-4648-a286-03d230af8f33"
      },
      "source": [
        "data = pd.DataFrame(np.transpose(output), columns=labels+labels_2+labels_3)\n",
        "pid = (compute_features_for_patient(np.asarray(test_features)))[:,0]\n",
        "\n",
        "\n",
        "data.insert(0, 'pid', pid)\n",
        "data.head(10)"
      ],
      "execution_count": null,
      "outputs": [
        {
          "output_type": "stream",
          "text": [
            "/usr/local/lib/python3.7/dist-packages/ipykernel_launcher.py:2: RuntimeWarning: Mean of empty slice\n",
            "  \n",
            "/usr/local/lib/python3.7/dist-packages/ipykernel_launcher.py:3: RuntimeWarning: All-NaN slice encountered\n",
            "  This is separate from the ipykernel package so we can avoid doing imports until\n",
            "/usr/local/lib/python3.7/dist-packages/ipykernel_launcher.py:4: RuntimeWarning: All-NaN slice encountered\n",
            "  after removing the cwd from sys.path.\n",
            "/usr/local/lib/python3.7/dist-packages/ipykernel_launcher.py:5: RuntimeWarning: Degrees of freedom <= 0 for slice.\n",
            "  \"\"\"\n",
            "/usr/local/lib/python3.7/dist-packages/numpy/lib/nanfunctions.py:1114: RuntimeWarning: All-NaN slice encountered\n",
            "  overwrite_input=overwrite_input)\n"
          ],
          "name": "stderr"
        },
        {
          "output_type": "execute_result",
          "data": {
            "text/html": [
              "<div>\n",
              "<style scoped>\n",
              "    .dataframe tbody tr th:only-of-type {\n",
              "        vertical-align: middle;\n",
              "    }\n",
              "\n",
              "    .dataframe tbody tr th {\n",
              "        vertical-align: top;\n",
              "    }\n",
              "\n",
              "    .dataframe thead th {\n",
              "        text-align: right;\n",
              "    }\n",
              "</style>\n",
              "<table border=\"1\" class=\"dataframe\">\n",
              "  <thead>\n",
              "    <tr style=\"text-align: right;\">\n",
              "      <th></th>\n",
              "      <th>pid</th>\n",
              "      <th>LABEL_BaseExcess</th>\n",
              "      <th>LABEL_Fibrinogen</th>\n",
              "      <th>LABEL_AST</th>\n",
              "      <th>LABEL_Alkalinephos</th>\n",
              "      <th>LABEL_Bilirubin_total</th>\n",
              "      <th>LABEL_Lactate</th>\n",
              "      <th>LABEL_TroponinI</th>\n",
              "      <th>LABEL_SaO2</th>\n",
              "      <th>LABEL_Bilirubin_direct</th>\n",
              "      <th>LABEL_EtCO2</th>\n",
              "      <th>LABEL_Sepsis</th>\n",
              "      <th>LABEL_RRate</th>\n",
              "      <th>LABEL_ABPm</th>\n",
              "      <th>LABEL_SpO2</th>\n",
              "      <th>LABEL_Heartrate</th>\n",
              "    </tr>\n",
              "  </thead>\n",
              "  <tbody>\n",
              "    <tr>\n",
              "      <th>0</th>\n",
              "      <td>0.0</td>\n",
              "      <td>0.966958</td>\n",
              "      <td>0.595994</td>\n",
              "      <td>0.868515</td>\n",
              "      <td>0.893595</td>\n",
              "      <td>0.919503</td>\n",
              "      <td>0.584220</td>\n",
              "      <td>0.002319</td>\n",
              "      <td>0.233140</td>\n",
              "      <td>0.043451</td>\n",
              "      <td>0.003493</td>\n",
              "      <td>0.059665</td>\n",
              "      <td>13.630846</td>\n",
              "      <td>83.828241</td>\n",
              "      <td>98.836685</td>\n",
              "      <td>86.021261</td>\n",
              "    </tr>\n",
              "    <tr>\n",
              "      <th>1</th>\n",
              "      <td>10001.0</td>\n",
              "      <td>0.021409</td>\n",
              "      <td>0.038665</td>\n",
              "      <td>0.282330</td>\n",
              "      <td>0.254959</td>\n",
              "      <td>0.293267</td>\n",
              "      <td>0.045003</td>\n",
              "      <td>0.068447</td>\n",
              "      <td>0.057774</td>\n",
              "      <td>0.022696</td>\n",
              "      <td>0.015245</td>\n",
              "      <td>0.016609</td>\n",
              "      <td>17.410669</td>\n",
              "      <td>86.089578</td>\n",
              "      <td>94.876741</td>\n",
              "      <td>99.979831</td>\n",
              "    </tr>\n",
              "    <tr>\n",
              "      <th>2</th>\n",
              "      <td>10003.0</td>\n",
              "      <td>0.005113</td>\n",
              "      <td>0.011733</td>\n",
              "      <td>0.086139</td>\n",
              "      <td>0.048582</td>\n",
              "      <td>0.106362</td>\n",
              "      <td>0.107175</td>\n",
              "      <td>0.050824</td>\n",
              "      <td>0.180226</td>\n",
              "      <td>0.009035</td>\n",
              "      <td>0.006757</td>\n",
              "      <td>0.017355</td>\n",
              "      <td>19.053113</td>\n",
              "      <td>79.136062</td>\n",
              "      <td>98.350174</td>\n",
              "      <td>90.310850</td>\n",
              "    </tr>\n",
              "    <tr>\n",
              "      <th>3</th>\n",
              "      <td>10004.0</td>\n",
              "      <td>0.022827</td>\n",
              "      <td>0.019806</td>\n",
              "      <td>0.322862</td>\n",
              "      <td>0.454677</td>\n",
              "      <td>0.234211</td>\n",
              "      <td>0.049907</td>\n",
              "      <td>0.033418</td>\n",
              "      <td>0.097897</td>\n",
              "      <td>0.015519</td>\n",
              "      <td>0.040422</td>\n",
              "      <td>0.016317</td>\n",
              "      <td>16.412464</td>\n",
              "      <td>75.967590</td>\n",
              "      <td>95.940048</td>\n",
              "      <td>88.135103</td>\n",
              "    </tr>\n",
              "    <tr>\n",
              "      <th>4</th>\n",
              "      <td>10005.0</td>\n",
              "      <td>0.100996</td>\n",
              "      <td>0.022940</td>\n",
              "      <td>0.113250</td>\n",
              "      <td>0.112557</td>\n",
              "      <td>0.116912</td>\n",
              "      <td>0.085668</td>\n",
              "      <td>0.002136</td>\n",
              "      <td>0.048432</td>\n",
              "      <td>0.002304</td>\n",
              "      <td>0.000226</td>\n",
              "      <td>0.014138</td>\n",
              "      <td>19.397262</td>\n",
              "      <td>73.426885</td>\n",
              "      <td>95.862290</td>\n",
              "      <td>62.153426</td>\n",
              "    </tr>\n",
              "    <tr>\n",
              "      <th>5</th>\n",
              "      <td>10008.0</td>\n",
              "      <td>0.950417</td>\n",
              "      <td>0.030916</td>\n",
              "      <td>0.685321</td>\n",
              "      <td>0.565943</td>\n",
              "      <td>0.322593</td>\n",
              "      <td>0.512111</td>\n",
              "      <td>0.002920</td>\n",
              "      <td>0.054216</td>\n",
              "      <td>0.009933</td>\n",
              "      <td>0.001265</td>\n",
              "      <td>0.438415</td>\n",
              "      <td>17.836890</td>\n",
              "      <td>94.014372</td>\n",
              "      <td>96.935761</td>\n",
              "      <td>73.173042</td>\n",
              "    </tr>\n",
              "    <tr>\n",
              "      <th>6</th>\n",
              "      <td>10011.0</td>\n",
              "      <td>0.008473</td>\n",
              "      <td>0.026577</td>\n",
              "      <td>0.099776</td>\n",
              "      <td>0.116588</td>\n",
              "      <td>0.104996</td>\n",
              "      <td>0.020624</td>\n",
              "      <td>0.030772</td>\n",
              "      <td>0.045003</td>\n",
              "      <td>0.004776</td>\n",
              "      <td>0.021916</td>\n",
              "      <td>0.021584</td>\n",
              "      <td>16.457546</td>\n",
              "      <td>97.940134</td>\n",
              "      <td>98.501559</td>\n",
              "      <td>70.930516</td>\n",
              "    </tr>\n",
              "    <tr>\n",
              "      <th>7</th>\n",
              "      <td>10017.0</td>\n",
              "      <td>0.043217</td>\n",
              "      <td>0.163254</td>\n",
              "      <td>0.253344</td>\n",
              "      <td>0.208154</td>\n",
              "      <td>0.302394</td>\n",
              "      <td>0.153302</td>\n",
              "      <td>0.014130</td>\n",
              "      <td>0.047592</td>\n",
              "      <td>0.001979</td>\n",
              "      <td>0.039698</td>\n",
              "      <td>0.013587</td>\n",
              "      <td>20.464282</td>\n",
              "      <td>109.319428</td>\n",
              "      <td>97.888775</td>\n",
              "      <td>104.068481</td>\n",
              "    </tr>\n",
              "    <tr>\n",
              "      <th>8</th>\n",
              "      <td>10018.0</td>\n",
              "      <td>0.026012</td>\n",
              "      <td>0.053686</td>\n",
              "      <td>0.187910</td>\n",
              "      <td>0.185255</td>\n",
              "      <td>0.242427</td>\n",
              "      <td>0.145680</td>\n",
              "      <td>0.076330</td>\n",
              "      <td>0.337930</td>\n",
              "      <td>0.012921</td>\n",
              "      <td>0.332275</td>\n",
              "      <td>0.045221</td>\n",
              "      <td>18.742456</td>\n",
              "      <td>80.701055</td>\n",
              "      <td>94.682040</td>\n",
              "      <td>102.521953</td>\n",
              "    </tr>\n",
              "    <tr>\n",
              "      <th>9</th>\n",
              "      <td>10019.0</td>\n",
              "      <td>0.530934</td>\n",
              "      <td>0.014831</td>\n",
              "      <td>0.095400</td>\n",
              "      <td>0.044555</td>\n",
              "      <td>0.086392</td>\n",
              "      <td>0.117739</td>\n",
              "      <td>0.006305</td>\n",
              "      <td>0.716256</td>\n",
              "      <td>0.001664</td>\n",
              "      <td>0.000307</td>\n",
              "      <td>0.013553</td>\n",
              "      <td>17.501302</td>\n",
              "      <td>80.279763</td>\n",
              "      <td>95.816511</td>\n",
              "      <td>74.227386</td>\n",
              "    </tr>\n",
              "  </tbody>\n",
              "</table>\n",
              "</div>"
            ],
            "text/plain": [
              "       pid  LABEL_BaseExcess  ...  LABEL_SpO2  LABEL_Heartrate\n",
              "0      0.0          0.966958  ...   98.836685        86.021261\n",
              "1  10001.0          0.021409  ...   94.876741        99.979831\n",
              "2  10003.0          0.005113  ...   98.350174        90.310850\n",
              "3  10004.0          0.022827  ...   95.940048        88.135103\n",
              "4  10005.0          0.100996  ...   95.862290        62.153426\n",
              "5  10008.0          0.950417  ...   96.935761        73.173042\n",
              "6  10011.0          0.008473  ...   98.501559        70.930516\n",
              "7  10017.0          0.043217  ...   97.888775       104.068481\n",
              "8  10018.0          0.026012  ...   94.682040       102.521953\n",
              "9  10019.0          0.530934  ...   95.816511        74.227386\n",
              "\n",
              "[10 rows x 16 columns]"
            ]
          },
          "metadata": {
            "tags": []
          },
          "execution_count": 74
        }
      ]
    },
    {
      "cell_type": "code",
      "metadata": {
        "id": "iOi5qOw8NNS8"
      },
      "source": [
        "#Output csv\n",
        "data.to_csv('output.csv', index=False, header=True, float_format='%.3f')"
      ],
      "execution_count": null,
      "outputs": []
    }
  ]
}
